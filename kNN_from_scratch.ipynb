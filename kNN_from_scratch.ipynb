{
 "cells": [
  {
   "cell_type": "markdown",
   "metadata": {},
   "source": [
    "# kNN for classification problems"
   ]
  },
  {
   "cell_type": "code",
   "execution_count": 1,
   "metadata": {},
   "outputs": [],
   "source": [
    "from copy import deepcopy\n",
    "from random import randint\n",
    "import numpy as np\n",
    "from matplotlib import pyplot\n",
    "from sklearn.datasets.samples_generator import make_blobs\n",
    "import operator\n",
    "from sklearn.datasets import load_iris\n",
    "from sklearn.model_selection import train_test_split"
   ]
  },
  {
   "cell_type": "markdown",
   "metadata": {},
   "source": [
    "Euclidean Distance"
   ]
  },
  {
   "cell_type": "code",
   "execution_count": 2,
   "metadata": {},
   "outputs": [],
   "source": [
    "def dist(a, b):\n",
    "    '''\n",
    "    Euclidean Distance\n",
    "    '''\n",
    "    return np.linalg.norm(a - b)"
   ]
  },
  {
   "cell_type": "code",
   "execution_count": 3,
   "metadata": {},
   "outputs": [],
   "source": [
    "def dist_2d(a,b):\n",
    "    '''\n",
    "    Euclidean Distance\n",
    "    '''\n",
    "    squared_distance = 0\n",
    "    for i in range(len(a)):\n",
    "        squared_distance += (a[i] - b[i])**2\n",
    "    dist = sqrt(squared_distances)\n",
    "    return dist"
   ]
  },
  {
   "cell_type": "code",
   "execution_count": 4,
   "metadata": {},
   "outputs": [],
   "source": [
    "def get_neighbors(data, instance, k):\n",
    "    '''\n",
    "    Function that returns k neighbors using Euclidean Distance \n",
    "    \n",
    "    '''\n",
    "    distances = []\n",
    "    length = len(instance)-1\n",
    "    \n",
    "    for n in range(len(data)):\n",
    "        dist_inst_data = dist(instance, data[n])\n",
    "        distances.append((data[n], dist_inst_data))\n",
    "    \n",
    "    distances.sort(key=operator.itemgetter(1))\n",
    "    neighbors = []\n",
    "    for m in range(k):\n",
    "        neighbors.append(distances[m][0])\n",
    "    return neighbors"
   ]
  },
  {
   "cell_type": "code",
   "execution_count": 5,
   "metadata": {},
   "outputs": [],
   "source": [
    "def get_class_labels(neighbors):\n",
    "    '''\n",
    "    Function that sets moajority vote as the prediction\n",
    "    '''\n",
    "    votes ={}\n",
    "    for n in range(len(neighbors)):\n",
    "        response = neighbors[n][-1]\n",
    "        if response in votes:\n",
    "            votes[response] += 1\n",
    "        else:\n",
    "            votes[response] = 1\n",
    "    sorted_votes = sorted(votes.items(), key=operator.itemgetter(1), reverse=True)\n",
    "    return sorted_votes[0][0]"
   ]
  },
  {
   "cell_type": "code",
   "execution_count": 6,
   "metadata": {},
   "outputs": [],
   "source": [
    "def get_accuracy(test_set, predictions):\n",
    "    '''\n",
    "    Function that calculates accuracy using labels stored in the last column\n",
    "    '''\n",
    "    ok = 0\n",
    "    test_len = len(test_set)\n",
    "    print(\"data test examples' size = \" + str(test_len))\n",
    "    for i in range(test_len):\n",
    "        print(\"true label = \" + str(int(test_set[i][-1])))\n",
    "        print(\"predicted label = \" + str(int(predictions[i])))\n",
    "        if i < test_len:\n",
    "            print(\" --- next example --- \")\n",
    "        if test_set[i][-1] == predictions[i]:\n",
    "            ok += 1\n",
    "    return ( ok /float(test_len)) * 100.0"
   ]
  },
  {
   "cell_type": "markdown",
   "metadata": {},
   "source": [
    "Let's use iris dataset"
   ]
  },
  {
   "cell_type": "code",
   "execution_count": 7,
   "metadata": {},
   "outputs": [],
   "source": [
    "iris = load_iris()"
   ]
  },
  {
   "cell_type": "code",
   "execution_count": 8,
   "metadata": {},
   "outputs": [
    {
     "name": "stdout",
     "output_type": "stream",
     "text": [
      "['DESCR', 'data', 'feature_names', 'filename', 'target', 'target_names']\n"
     ]
    }
   ],
   "source": [
    "print(dir(iris))"
   ]
  },
  {
   "cell_type": "code",
   "execution_count": 9,
   "metadata": {},
   "outputs": [],
   "source": [
    "x_train, x_test, y_train, y_test = train_test_split(iris.data, iris.target, test_size=0.50, random_state=111)"
   ]
  },
  {
   "cell_type": "code",
   "execution_count": 10,
   "metadata": {},
   "outputs": [
    {
     "data": {
      "text/plain": [
       "<matplotlib.collections.PathCollection at 0x1a142bb908>"
      ]
     },
     "execution_count": 10,
     "metadata": {},
     "output_type": "execute_result"
    },
    {
     "data": {
      "image/png": "[encoded data removed]",
      "text/plain": [
       "<Figure size 576x432 with 1 Axes>"
      ]
     },
     "metadata": {},
     "output_type": "display_data"
    }
   ],
   "source": [
    "pyplot.figure(2, figsize=(8, 6))\n",
    "pyplot.clf()\n",
    "# Plot the training points\n",
    "pyplot.scatter(x_train[:, 1], x_train[:, 2], c=y_train, cmap=pyplot.cm.Set1, edgecolor='k')"
   ]
  },
  {
   "cell_type": "code",
   "execution_count": 11,
   "metadata": {},
   "outputs": [
    {
     "data": {
      "text/plain": [
       "(75, 4)"
      ]
     },
     "execution_count": 11,
     "metadata": {},
     "output_type": "execute_result"
    }
   ],
   "source": [
    "x_train.shape"
   ]
  },
  {
   "cell_type": "code",
   "execution_count": 12,
   "metadata": {},
   "outputs": [
    {
     "data": {
      "text/plain": [
       "(75,)"
      ]
     },
     "execution_count": 12,
     "metadata": {},
     "output_type": "execute_result"
    }
   ],
   "source": [
    "y_train.shape"
   ]
  },
  {
   "cell_type": "code",
   "execution_count": 13,
   "metadata": {},
   "outputs": [],
   "source": [
    "data_train = np.column_stack( [x_train, y_train] ) # all data together, last column = labels\n",
    "data_train2 = deepcopy(x_train) # I will use this for regression so I don't need labels \n",
    "                                #                    (will predict one of the features)"
   ]
  },
  {
   "cell_type": "code",
   "execution_count": 14,
   "metadata": {},
   "outputs": [],
   "source": [
    "data_test = np.column_stack( [x_test, y_test] )\n",
    "data_test2 = deepcopy(x_test)"
   ]
  },
  {
   "cell_type": "code",
   "execution_count": 15,
   "metadata": {},
   "outputs": [],
   "source": [
    "predictions = []"
   ]
  },
  {
   "cell_type": "code",
   "execution_count": 16,
   "metadata": {},
   "outputs": [],
   "source": [
    "k = 10"
   ]
  },
  {
   "cell_type": "code",
   "execution_count": 17,
   "metadata": {},
   "outputs": [],
   "source": [
    "for i in range(len(data_test)):\n",
    "    neighbors = get_neighbors(data_train, data_test[i], k)\n",
    "    result = get_class_labels(neighbors)\n",
    "    predictions.append(result)"
   ]
  },
  {
   "cell_type": "code",
   "execution_count": 18,
   "metadata": {},
   "outputs": [
    {
     "name": "stdout",
     "output_type": "stream",
     "text": [
      "data test examples' size = 75\n",
      "true label = 0\n",
      "predicted label = 0\n",
      " --- next example --- \n",
      "true label = 0\n",
      "predicted label = 0\n",
      " --- next example --- \n",
      "true label = 2\n",
      "predicted label = 2\n",
      " --- next example --- \n",
      "true label = 2\n",
      "predicted label = 2\n",
      " --- next example --- \n",
      "true label = 1\n",
      "predicted label = 1\n",
      " --- next example --- \n",
      "true label = 0\n",
      "predicted label = 0\n",
      " --- next example --- \n",
      "true label = 0\n",
      "predicted label = 0\n",
      " --- next example --- \n",
      "true label = 2\n",
      "predicted label = 2\n",
      " --- next example --- \n",
      "true label = 2\n",
      "predicted label = 2\n",
      " --- next example --- \n",
      "true label = 1\n",
      "predicted label = 1\n",
      " --- next example --- \n",
      "true label = 2\n",
      "predicted label = 2\n",
      " --- next example --- \n",
      "true label = 0\n",
      "predicted label = 0\n",
      " --- next example --- \n",
      "true label = 2\n",
      "predicted label = 2\n",
      " --- next example --- \n",
      "true label = 2\n",
      "predicted label = 2\n",
      " --- next example --- \n",
      "true label = 2\n",
      "predicted label = 2\n",
      " --- next example --- \n",
      "true label = 0\n",
      "predicted label = 0\n",
      " --- next example --- \n",
      "true label = 2\n",
      "predicted label = 2\n",
      " --- next example --- \n",
      "true label = 1\n",
      "predicted label = 1\n",
      " --- next example --- \n",
      "true label = 0\n",
      "predicted label = 0\n",
      " --- next example --- \n",
      "true label = 2\n",
      "predicted label = 2\n",
      " --- next example --- \n",
      "true label = 1\n",
      "predicted label = 1\n",
      " --- next example --- \n",
      "true label = 2\n",
      "predicted label = 2\n",
      " --- next example --- \n",
      "true label = 1\n",
      "predicted label = 1\n",
      " --- next example --- \n",
      "true label = 1\n",
      "predicted label = 1\n",
      " --- next example --- \n",
      "true label = 2\n",
      "predicted label = 2\n",
      " --- next example --- \n",
      "true label = 0\n",
      "predicted label = 0\n",
      " --- next example --- \n",
      "true label = 0\n",
      "predicted label = 0\n",
      " --- next example --- \n",
      "true label = 1\n",
      "predicted label = 1\n",
      " --- next example --- \n",
      "true label = 0\n",
      "predicted label = 0\n",
      " --- next example --- \n",
      "true label = 2\n",
      "predicted label = 2\n",
      " --- next example --- \n",
      "true label = 0\n",
      "predicted label = 0\n",
      " --- next example --- \n",
      "true label = 1\n",
      "predicted label = 1\n",
      " --- next example --- \n",
      "true label = 0\n",
      "predicted label = 0\n",
      " --- next example --- \n",
      "true label = 0\n",
      "predicted label = 0\n",
      " --- next example --- \n",
      "true label = 1\n",
      "predicted label = 1\n",
      " --- next example --- \n",
      "true label = 2\n",
      "predicted label = 2\n",
      " --- next example --- \n",
      "true label = 2\n",
      "predicted label = 2\n",
      " --- next example --- \n",
      "true label = 1\n",
      "predicted label = 1\n",
      " --- next example --- \n",
      "true label = 0\n",
      "predicted label = 0\n",
      " --- next example --- \n",
      "true label = 1\n",
      "predicted label = 1\n",
      " --- next example --- \n",
      "true label = 1\n",
      "predicted label = 1\n",
      " --- next example --- \n",
      "true label = 1\n",
      "predicted label = 1\n",
      " --- next example --- \n",
      "true label = 1\n",
      "predicted label = 1\n",
      " --- next example --- \n",
      "true label = 1\n",
      "predicted label = 1\n",
      " --- next example --- \n",
      "true label = 2\n",
      "predicted label = 2\n",
      " --- next example --- \n",
      "true label = 1\n",
      "predicted label = 1\n",
      " --- next example --- \n",
      "true label = 1\n",
      "predicted label = 1\n",
      " --- next example --- \n",
      "true label = 0\n",
      "predicted label = 0\n",
      " --- next example --- \n",
      "true label = 0\n",
      "predicted label = 0\n",
      " --- next example --- \n",
      "true label = 1\n",
      "predicted label = 1\n",
      " --- next example --- \n",
      "true label = 1\n",
      "predicted label = 1\n",
      " --- next example --- \n",
      "true label = 1\n",
      "predicted label = 1\n",
      " --- next example --- \n",
      "true label = 1\n",
      "predicted label = 1\n",
      " --- next example --- \n",
      "true label = 0\n",
      "predicted label = 0\n",
      " --- next example --- \n",
      "true label = 1\n",
      "predicted label = 1\n",
      " --- next example --- \n",
      "true label = 0\n",
      "predicted label = 0\n",
      " --- next example --- \n",
      "true label = 0\n",
      "predicted label = 0\n",
      " --- next example --- \n",
      "true label = 2\n",
      "predicted label = 1\n",
      " --- next example --- \n",
      "true label = 0\n",
      "predicted label = 0\n",
      " --- next example --- \n",
      "true label = 0\n",
      "predicted label = 0\n",
      " --- next example --- \n",
      "true label = 2\n",
      "predicted label = 2\n",
      " --- next example --- \n",
      "true label = 1\n",
      "predicted label = 1\n",
      " --- next example --- \n",
      "true label = 1\n",
      "predicted label = 1\n",
      " --- next example --- \n",
      "true label = 2\n",
      "predicted label = 2\n",
      " --- next example --- \n",
      "true label = 0\n",
      "predicted label = 0\n",
      " --- next example --- \n",
      "true label = 1\n",
      "predicted label = 1\n",
      " --- next example --- \n",
      "true label = 2\n",
      "predicted label = 2\n",
      " --- next example --- \n",
      "true label = 2\n",
      "predicted label = 2\n",
      " --- next example --- \n",
      "true label = 0\n",
      "predicted label = 0\n",
      " --- next example --- \n",
      "true label = 2\n",
      "predicted label = 2\n",
      " --- next example --- \n",
      "true label = 0\n",
      "predicted label = 0\n",
      " --- next example --- \n",
      "true label = 1\n",
      "predicted label = 1\n",
      " --- next example --- \n",
      "true label = 2\n",
      "predicted label = 2\n",
      " --- next example --- \n",
      "true label = 1\n",
      "predicted label = 1\n",
      " --- next example --- \n",
      "true label = 2\n",
      "predicted label = 2\n",
      " --- next example --- \n"
     ]
    }
   ],
   "source": [
    "accuracy = get_accuracy(data_test, predictions)"
   ]
  },
  {
   "cell_type": "code",
   "execution_count": 19,
   "metadata": {},
   "outputs": [
    {
     "name": "stdout",
     "output_type": "stream",
     "text": [
      "98.66666666666667\n"
     ]
    }
   ],
   "source": [
    "print(accuracy)"
   ]
  },
  {
   "cell_type": "code",
   "execution_count": 20,
   "metadata": {},
   "outputs": [
    {
     "data": {
      "text/plain": [
       "<matplotlib.collections.PathCollection at 0x1a16340588>"
      ]
     },
     "execution_count": 20,
     "metadata": {},
     "output_type": "execute_result"
    },
    {
     "data": {
      "image/png": "[encoded data removed]",
      "text/plain": [
       "<Figure size 576x432 with 1 Axes>"
      ]
     },
     "metadata": {},
     "output_type": "display_data"
    }
   ],
   "source": [
    "pyplot.figure(2, figsize=(8, 6))\n",
    "pyplot.clf()\n",
    "# Plot the training points\n",
    "pyplot.scatter(x_test[:, 1], x_test[:, 2], c=y_test, cmap=pyplot.cm.Set1, edgecolor='k')\n",
    "\n",
    "# True labels"
   ]
  },
  {
   "cell_type": "code",
   "execution_count": 21,
   "metadata": {},
   "outputs": [
    {
     "data": {
      "text/plain": [
       "<matplotlib.collections.PathCollection at 0x1a16381630>"
      ]
     },
     "execution_count": 21,
     "metadata": {},
     "output_type": "execute_result"
    },
    {
     "data": {
      "image/png": "[encoded data removed]",
      "text/plain": [
       "<Figure size 576x432 with 1 Axes>"
      ]
     },
     "metadata": {},
     "output_type": "display_data"
    }
   ],
   "source": [
    "pyplot.figure(2, figsize=(8, 6))\n",
    "pyplot.clf()\n",
    "# Plot the training points\n",
    "pyplot.scatter(x_test[:, 1], x_test[:, 2], c=predictions, cmap=pyplot.cm.Set1, edgecolor='k')\n",
    "\n",
    "# Predicted labels"
   ]
  },
  {
   "cell_type": "markdown",
   "metadata": {},
   "source": [
    "# kNN for regression"
   ]
  },
  {
   "cell_type": "code",
   "execution_count": 22,
   "metadata": {},
   "outputs": [],
   "source": [
    "def make_regression(test_set, train_set, k):\n",
    "    '''\n",
    "    For regression setting, we just take the average of the output of the K closet training data points\n",
    "    \n",
    "    First of all we check which feature is missing and then we will use k neighbors to fill \n",
    "    this information\n",
    "    '''\n",
    "    \n",
    "    predicted_values = []\n",
    "    \n",
    "    # for each of the examples in test set we find k nearest neighbors and calculate missing value    \n",
    "    for n in range(len(test_set)):\n",
    "        print(test_set[n])\n",
    "        missing = int(np.argwhere(np.isnan(test_set[n]))) # index of a missing feature  \n",
    "        print(missing)\n",
    "        av_res = 0\n",
    "        neighbors = get_neighbors(train_set, test_set[n], k) # k neighbors\n",
    "        \n",
    "        print(neighbors)\n",
    "        \n",
    "        for m in neighbors:\n",
    "            av_res += m[missing]\n",
    "            print(m[missing])\n",
    "        \n",
    "        predicted_values.append(av_res/k)\n",
    "        \n",
    "    return predicted_values"
   ]
  },
  {
   "cell_type": "code",
   "execution_count": 23,
   "metadata": {},
   "outputs": [
    {
     "name": "stdout",
     "output_type": "stream",
     "text": [
      "['DESCR', 'data', 'feature_names', 'filename', 'target', 'target_names']\n"
     ]
    }
   ],
   "source": [
    "print(dir(iris))"
   ]
  },
  {
   "cell_type": "code",
   "execution_count": 24,
   "metadata": {},
   "outputs": [
    {
     "name": "stdout",
     "output_type": "stream",
     "text": [
      "['sepal length (cm)', 'sepal width (cm)', 'petal length (cm)', 'petal width (cm)']\n"
     ]
    }
   ],
   "source": [
    "print(iris.feature_names)"
   ]
  },
  {
   "cell_type": "code",
   "execution_count": 25,
   "metadata": {},
   "outputs": [],
   "source": [
    "test1 = np.array([ [5. , 3.4, np.nan , 0.2] ])"
   ]
  },
  {
   "cell_type": "code",
   "execution_count": 26,
   "metadata": {},
   "outputs": [
    {
     "name": "stdout",
     "output_type": "stream",
     "text": [
      "[5.  3.4 nan 0.2]\n",
      "2\n",
      "[array([6.8, 3.2, 5.9, 2.3]), array([6.6, 3. , 4.4, 1.4]), array([6. , 2.2, 4. , 1. ]), array([6.4, 2.8, 5.6, 2.1]), array([6.1, 2.8, 4. , 1.3]), array([6.5, 3. , 5.8, 2.2]), array([5. , 3.5, 1.6, 0.6]), array([7.7, 3. , 6.1, 2.3]), array([5.8, 2.7, 5.1, 1.9]), array([5.2, 4.1, 1.5, 0.1])]\n",
      "5.9\n",
      "4.4\n",
      "4.0\n",
      "5.6\n",
      "4.0\n",
      "5.8\n",
      "1.6\n",
      "6.1\n",
      "5.1\n",
      "1.5\n"
     ]
    }
   ],
   "source": [
    "predicted_x3_for_test1 = make_regression(test1, x_train, k)"
   ]
  },
  {
   "cell_type": "code",
   "execution_count": 27,
   "metadata": {},
   "outputs": [
    {
     "name": "stdout",
     "output_type": "stream",
     "text": [
      "[4.4]\n"
     ]
    }
   ],
   "source": [
    "print(predicted_x3_for_test1)"
   ]
  },
  {
   "cell_type": "code",
   "execution_count": 28,
   "metadata": {},
   "outputs": [],
   "source": [
    "#\n",
    "# Let's check it on a larger number of examples "
   ]
  },
  {
   "cell_type": "code",
   "execution_count": 29,
   "metadata": {},
   "outputs": [],
   "source": [
    "test2 = np.array([ [5. , 3.4, np.nan , 0.2], \n",
    "                   [5. , 3.4, 4.2 , np.nan],\n",
    "                   [5.1, 3.2, np.nan, 0.4],\n",
    "                   [np.nan, 3.2, 1.7, 0.6]\n",
    "                 ])"
   ]
  },
  {
   "cell_type": "markdown",
   "metadata": {},
   "source": [
    "So we have four missing values that we want to predict using kNN, let's see how it works"
   ]
  },
  {
   "cell_type": "code",
   "execution_count": 30,
   "metadata": {},
   "outputs": [
    {
     "name": "stdout",
     "output_type": "stream",
     "text": [
      "[5.  3.4 nan 0.2]\n",
      "2\n",
      "[array([6.8, 3.2, 5.9, 2.3]), array([6.6, 3. , 4.4, 1.4]), array([6. , 2.2, 4. , 1. ]), array([6.4, 2.8, 5.6, 2.1]), array([6.1, 2.8, 4. , 1.3]), array([6.5, 3. , 5.8, 2.2]), array([5. , 3.5, 1.6, 0.6]), array([7.7, 3. , 6.1, 2.3]), array([5.8, 2.7, 5.1, 1.9]), array([5.2, 4.1, 1.5, 0.1])]\n",
      "5.9\n",
      "4.4\n",
      "4.0\n",
      "5.6\n",
      "4.0\n",
      "5.8\n",
      "1.6\n",
      "6.1\n",
      "5.1\n",
      "1.5\n",
      "[5.  3.4 4.2 nan]\n",
      "3\n",
      "[array([6.8, 3.2, 5.9, 2.3]), array([6.6, 3. , 4.4, 1.4]), array([6. , 2.2, 4. , 1. ]), array([6.4, 2.8, 5.6, 2.1]), array([6.1, 2.8, 4. , 1.3]), array([6.5, 3. , 5.8, 2.2]), array([5. , 3.5, 1.6, 0.6]), array([7.7, 3. , 6.1, 2.3]), array([5.8, 2.7, 5.1, 1.9]), array([5.2, 4.1, 1.5, 0.1])]\n",
      "2.3\n",
      "1.4\n",
      "1.0\n",
      "2.1\n",
      "1.3\n",
      "2.2\n",
      "0.6\n",
      "2.3\n",
      "1.9\n",
      "0.1\n",
      "[5.1 3.2 nan 0.4]\n",
      "2\n",
      "[array([6.8, 3.2, 5.9, 2.3]), array([6.6, 3. , 4.4, 1.4]), array([6. , 2.2, 4. , 1. ]), array([6.4, 2.8, 5.6, 2.1]), array([6.1, 2.8, 4. , 1.3]), array([6.5, 3. , 5.8, 2.2]), array([5. , 3.5, 1.6, 0.6]), array([7.7, 3. , 6.1, 2.3]), array([5.8, 2.7, 5.1, 1.9]), array([5.2, 4.1, 1.5, 0.1])]\n",
      "5.9\n",
      "4.4\n",
      "4.0\n",
      "5.6\n",
      "4.0\n",
      "5.8\n",
      "1.6\n",
      "6.1\n",
      "5.1\n",
      "1.5\n",
      "[nan 3.2 1.7 0.6]\n",
      "0\n",
      "[array([6.8, 3.2, 5.9, 2.3]), array([6.6, 3. , 4.4, 1.4]), array([6. , 2.2, 4. , 1. ]), array([6.4, 2.8, 5.6, 2.1]), array([6.1, 2.8, 4. , 1.3]), array([6.5, 3. , 5.8, 2.2]), array([5. , 3.5, 1.6, 0.6]), array([7.7, 3. , 6.1, 2.3]), array([5.8, 2.7, 5.1, 1.9]), array([5.2, 4.1, 1.5, 0.1])]\n",
      "6.8\n",
      "6.6\n",
      "6.0\n",
      "6.4\n",
      "6.1\n",
      "6.5\n",
      "5.0\n",
      "7.7\n",
      "5.8\n",
      "5.2\n"
     ]
    }
   ],
   "source": [
    "predicted_for_test2 = make_regression(test2, x_train, k)"
   ]
  },
  {
   "cell_type": "code",
   "execution_count": 31,
   "metadata": {},
   "outputs": [
    {
     "name": "stdout",
     "output_type": "stream",
     "text": [
      "[4.4, 1.52, 4.4, 6.21]\n"
     ]
    }
   ],
   "source": [
    "print(predicted_for_test2)"
   ]
  },
  {
   "cell_type": "code",
   "execution_count": null,
   "metadata": {},
   "outputs": [],
   "source": []
  }
 ],
 "metadata": {
  "kernelspec": {
   "display_name": "Python [conda env:Python3]",
   "language": "python",
   "name": "conda-env-Python3-py"
  },
  "language_info": {
   "codemirror_mode": {
    "name": "ipython",
    "version": 3
   },
   "file_extension": ".py",
   "mimetype": "text/x-python",
   "name": "python",
   "nbconvert_exporter": "python",
   "pygments_lexer": "ipython3",
   "version": "3.5.5"
  }
 },
 "nbformat": 4,
 "nbformat_minor": 2
}
